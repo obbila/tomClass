{
 "cells": [
  {
   "cell_type": "code",
   "execution_count": null,
   "id": "exceptional-table",
   "metadata": {},
   "outputs": [],
   "source": [
    "from fastai.vision.all import *\n",
    "from fastai.vision.widgets import *"
   ]
  },
  {
   "cell_type": "markdown",
   "id": "contemporary-morris",
   "metadata": {},
   "source": [
    "# The Awesome Tomato Classifier!\n",
    "\n",
    "This is a quick little classifier to help you tell if your tomatoes are ripe or not."
   ]
  },
  {
   "cell_type": "code",
   "execution_count": null,
   "id": "equipped-peter",
   "metadata": {},
   "outputs": [],
   "source": [
    "path = Path()\n",
    "learn_inf = load_learner(path/'export.pkl', cpu=True)\n",
    "btn_upload = widgets.FileUpload()\n",
    "out_pl = widgets.Output()\n",
    "lbl_info = widgets.Label()\n",
    "lbl_pred = widgets.Label()\n",
    "lbl_prob = widgets.Label()"
   ]
  },
  {
   "cell_type": "code",
   "execution_count": null,
   "id": "vocal-flour",
   "metadata": {},
   "outputs": [],
   "source": [
    "def on_data_change(change):\n",
    "    lbl_info.value = ''\n",
    "    lbl_pred.value = ''\n",
    "    lbl_prob.value = ''\n",
    "    img = PILImage.create(btn_upload.data[-1])\n",
    "    out_pl.clear_output()\n",
    "    with out_pl: display(img.to_thumb(256,256))\n",
    "    pred,pred_idx,probs = learn_inf.predict(img)\n",
    "    lbl_info.value = f'This is what the Awesome tomato classifier thinks is in your image:'\n",
    "    lbl_pred.value = f'Prediction: {pred}'\n",
    "    lbl_prob.value = f'Probability: {probs[pred_idx]:.04f}'"
   ]
  },
  {
   "cell_type": "code",
   "execution_count": null,
   "id": "confused-arbitration",
   "metadata": {},
   "outputs": [],
   "source": [
    "btn_upload.observe(on_data_change, names=['data'])"
   ]
  },
  {
   "cell_type": "code",
   "execution_count": null,
   "id": "indoor-august",
   "metadata": {},
   "outputs": [],
   "source": [
    "display(VBox([widgets.Label('Select your tomato!'), btn_upload, out_pl, lbl_info, lbl_pred, lbl_prob]))"
   ]
  },
  {
   "cell_type": "code",
   "execution_count": null,
   "id": "stone-budget",
   "metadata": {},
   "outputs": [],
   "source": []
  }
 ],
 "metadata": {
  "kernelspec": {
   "display_name": "Python 3",
   "language": "python",
   "name": "python3"
  },
  "language_info": {
   "codemirror_mode": {
    "name": "ipython",
    "version": 3
   },
   "file_extension": ".py",
   "mimetype": "text/x-python",
   "name": "python",
   "nbconvert_exporter": "python",
   "pygments_lexer": "ipython3",
   "version": "3.6.12"
  }
 },
 "nbformat": 4,
 "nbformat_minor": 5
}
